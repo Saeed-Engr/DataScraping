{
 "cells": [
  {
   "cell_type": "code",
   "execution_count": null,
   "id": "7268f7da",
   "metadata": {},
   "outputs": [],
   "source": [
    "# !pip install selenium\n",
    "# !pip install undetected-chromedriver\n",
    "import undetected_chromedriver as uc\n",
    "from selenium.webdriver.common.by import By\n",
    "import pandas as pd\n",
    "import time"
   ]
  },
  {
   "cell_type": "code",
   "execution_count": null,
   "id": "6815c366",
   "metadata": {},
   "outputs": [],
   "source": [
    "driver = uc.Chrome()"
   ]
  },
  {
   "cell_type": "code",
   "execution_count": null,
   "id": "df48ed03",
   "metadata": {},
   "outputs": [],
   "source": [
    "driver.maximize_window()"
   ]
  },
  {
   "cell_type": "code",
   "execution_count": null,
   "id": "34125a20",
   "metadata": {},
   "outputs": [],
   "source": [
    "driver.get(\"https://search.sunbiz.org/Inquiry/CorporationSearch/SearchResults/EntityName/taxes/Page1?searchNameOrder=TAXES\")"
   ]
  },
  {
   "cell_type": "code",
   "execution_count": null,
   "id": "2a66607e",
   "metadata": {},
   "outputs": [],
   "source": [
    "data = []\n",
    "while True:\n",
    "    if len(data) <= 1000:\n",
    "        corporate_names = driver.find_elements(By.CSS_SELECTOR, 'table > tbody > tr > td:nth-child(1)')\n",
    "        doc_nums = driver.find_elements(By.CSS_SELECTOR, 'table > tbody > tr > td:nth-child(2)')\n",
    "        statuses = driver.find_elements(By.CSS_SELECTOR, 'table > tbody > tr > td:nth-child(3)')\n",
    "        for c in range(len(corporate_names)):\n",
    "            corporate_name = corporate_names[c].text\n",
    "            doc_num = doc_nums[c].text\n",
    "            status = statuses[c].text\n",
    "            link = corporate_names[c].find_element(By.TAG_NAME, 'a').get_attribute('href')\n",
    "            if status == \"Active\":\n",
    "                data.append({\n",
    "                    \"Corporate Name\": corporate_name,\n",
    "                    \"Document Number\": doc_num,\n",
    "                    \"Status\": status,\n",
    "                    \"Link\": link\n",
    "                })\n",
    "                print(corporate_name)\n",
    "        driver.find_element(By.LINK_TEXT, 'Next List').click()\n",
    "        time.sleep(2)\n",
    "    else:\n",
    "        break"
   ]
  },
  {
   "cell_type": "code",
   "execution_count": null,
   "id": "ed220e0f",
   "metadata": {},
   "outputs": [],
   "source": [
    "df = pd.DataFrame(data)\n",
    "df.to_csv(\"saeed.csv\", index=False)"
   ]
  },
  {
   "cell_type": "code",
   "execution_count": null,
   "id": "b96300b5",
   "metadata": {},
   "outputs": [],
   "source": []
  }
 ],
 "metadata": {
  "kernelspec": {
   "display_name": "Python 3 (ipykernel)",
   "language": "python",
   "name": "python3"
  },
  "language_info": {
   "codemirror_mode": {
    "name": "ipython",
    "version": 3
   },
   "file_extension": ".py",
   "mimetype": "text/x-python",
   "name": "python",
   "nbconvert_exporter": "python",
   "pygments_lexer": "ipython3",
   "version": "3.11.3"
  }
 },
 "nbformat": 4,
 "nbformat_minor": 5
}
